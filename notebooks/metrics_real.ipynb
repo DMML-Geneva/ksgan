{
 "cells": [
  {
   "cell_type": "code",
   "execution_count": 1,
   "id": "fa45cab8-5fdb-46a9-9029-8c4f646b1c51",
   "metadata": {
    "is_executing": true
   },
   "outputs": [
    {
     "name": "stderr",
     "output_type": "stream",
     "text": [
      "/tmp/ipykernel_32204/4080736814.py:1: DeprecationWarning: \n",
      "Pyarrow will become a required dependency of pandas in the next major release of pandas (pandas 3.0),\n",
      "(to allow more performant data types, such as the Arrow string type, and better interoperability with other libraries)\n",
      "but was not found to be installed on your system.\n",
      "If this would cause problems for you,\n",
      "please provide us feedback at https://github.com/pandas-dev/pandas/issues/54466\n",
      "        \n",
      "  import pandas as pd\n"
     ]
    }
   ],
   "source": [
    "import pandas as pd"
   ]
  },
  {
   "cell_type": "markdown",
   "id": "226b0f28-a60a-4c7c-8a75-fda2fb9c5654",
   "metadata": {},
   "source": [
    "# MNIST"
   ]
  },
  {
   "cell_type": "code",
   "execution_count": 2,
   "id": "26e75502103d1fb8",
   "metadata": {
    "collapsed": false,
    "jupyter": {
     "outputs_hidden": false
    }
   },
   "outputs": [],
   "source": [
    "PATH_TO_1Stacked_MNIST = \"./metrics-real-1stack.csv\""
   ]
  },
  {
   "cell_type": "code",
   "execution_count": 3,
   "id": "a9880606-4cfb-4521-ac03-ad325ebcac5d",
   "metadata": {},
   "outputs": [],
   "source": [
    "df_1stack = pd.read_csv(PATH_TO_1Stacked_MNIST, index_col=0)\n",
    "df_3stack = pd.read_csv(\"../data/summary/all/metrics-real.csv\", index_col=0)\n",
    "df_3stack = df_3stack[df_3stack[\"dataset\"] == \"mnist\"]\n",
    "df_1stack[\"dataset\"] = df_1stack[\"dataset\"].apply(lambda x: f\"{x}-1stack\")\n",
    "df_3stack[\"dataset\"] = df_3stack[\"dataset\"].apply(lambda x: f\"{x}-3stack\")\n",
    "df = pd.concat((df_1stack, df_3stack))"
   ]
  },
  {
   "cell_type": "code",
   "execution_count": 4,
   "id": "c8a07c48-dc76-4d68-b17c-632e57d050e9",
   "metadata": {},
   "outputs": [
    {
     "name": "stdout",
     "output_type": "stream",
     "text": [
      "\\begin{tabular}{lllll}\n",
      "\\toprule\n",
      "dataset & \\multicolumn{2}{r}{mnist-1stack} & \\multicolumn{2}{r}{mnist-3stack} \\\\\n",
      " & num_modes & kld & num_modes & kld \\\\\n",
      "model &  &  &  &  \\\\\n",
      "\\midrule\n",
      "gan & 10.0000 (0.00000) & 0.6007 (0.27550) & 808.0000 (396.90490) & 1.4160 (1.36819) \\\\\n",
      "ksgan & 10.0000 (0.00000) & 0.0056 (0.00045) & 1000.0000 (0.00000) & 0.0362 (0.00534) \\\\\n",
      "wgan & 10.0000 (0.00000) & 0.0087 (0.00499) & 1000.0000 (0.00000) & 0.0336 (0.00461) \\\\\n",
      "\\bottomrule\n",
      "\\end{tabular}\n",
      "\n"
     ]
    }
   ],
   "source": [
    "def df_to_latex_table(df):\n",
    "    df = df[['dataset', 'model', 'num_modes', 'kld']]\n",
    "    df_grouped = df.groupby(by=['dataset', \"model\"]).agg(lambda x: f\"{x.mean():.4f} ({x.std():.5f})\").unstack(level=0)\n",
    "    df_grouped.columns = df_grouped.columns.reorder_levels(['dataset', None])\n",
    "    return df_grouped[[('mnist-1stack', 'num_modes'),\n",
    "               ('mnist-1stack',       'kld'),\n",
    "            ('mnist-3stack', 'num_modes'),\n",
    "            ('mnist-3stack',       'kld')]].to_latex()\n",
    "\n",
    "latex_code = df_to_latex_table(df.copy())\n",
    "print(latex_code)\n"
   ]
  },
  {
   "cell_type": "markdown",
   "id": "07ca6989-c032-4078-8a00-cec0facc617e",
   "metadata": {},
   "source": [
    "# CIFAR"
   ]
  },
  {
   "cell_type": "code",
   "execution_count": 5,
   "id": "fe693cd5-91b1-4305-bbf0-6e094b239421",
   "metadata": {},
   "outputs": [],
   "source": [
    "df = pd.read_csv(\"../data/summary/all/metrics-real.csv\", index_col=0)"
   ]
  },
  {
   "cell_type": "code",
   "execution_count": 6,
   "id": "4db02cab-6c88-4906-819d-6e41b422afec",
   "metadata": {},
   "outputs": [
    {
     "name": "stdout",
     "output_type": "stream",
     "text": [
      "\\begin{tabular}{lll}\n",
      "\\toprule\n",
      " & is & fid \\\\\n",
      "model &  &  \\\\\n",
      "\\midrule\n",
      "gan & 6.6209 (0.59187) & 47.9414 (10.78435) \\\\\n",
      "ksgan & 6.6429 (0.16785) & 41.1555 (3.26385) \\\\\n",
      "wgan & 6.7351 (0.31735) & 44.3026 (6.61652) \\\\\n",
      "\\bottomrule\n",
      "\\end{tabular}\n",
      "\n"
     ]
    }
   ],
   "source": [
    "def df_to_latex_table(df):\n",
    "    df = df[['model', 'is', 'fid']]\n",
    "    df_grouped = df.groupby(by=[\"model\"]).agg(lambda x: f\"{x.mean():.4f} ({x.std():.5f})\")\n",
    "    return df_grouped.to_latex()\n",
    "\n",
    "\n",
    "latex_code = df_to_latex_table(df[df[\"dataset\"] == \"cifar10\"].copy())\n",
    "print(latex_code)\n"
   ]
  },
  {
   "cell_type": "code",
   "execution_count": null,
   "id": "71efcb47-4b71-4142-9682-c5d8416f52f8",
   "metadata": {},
   "outputs": [],
   "source": []
  }
 ],
 "metadata": {
  "kernelspec": {
   "display_name": "Python 3 (ipykernel)",
   "language": "python",
   "name": "python3"
  },
  "language_info": {
   "codemirror_mode": {
    "name": "ipython",
    "version": 3
   },
   "file_extension": ".py",
   "mimetype": "text/x-python",
   "name": "python",
   "nbconvert_exporter": "python",
   "pygments_lexer": "ipython3",
   "version": "3.11.7"
  }
 },
 "nbformat": 4,
 "nbformat_minor": 5
}
